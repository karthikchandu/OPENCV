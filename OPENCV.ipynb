{
  "nbformat": 4,
  "nbformat_minor": 0,
  "metadata": {
    "colab": {
      "name": "OPENCV.ipynb",
      "provenance": [],
      "collapsed_sections": []
    },
    "kernelspec": {
      "name": "python3",
      "display_name": "Python 3"
    }
  },
  "cells": [
    {
      "cell_type": "code",
      "metadata": {
        "id": "Y6Y_a2vBdVar",
        "colab_type": "code",
        "colab": {}
      },
      "source": [
        "#READING A IMAGE\n",
        "import cv2\n",
        "# LOAD AN IMAGE USING 'IMREAD' from the path\n",
        "img = cv2.imread(\"Resources/img.png\")\n",
        "# DISPLAY\n",
        "cv2.imshow(\"Lena Soderberg\",img)\n",
        "#delay\n",
        "cv2.waitKey(0)\n",
        "\n"
      ],
      "execution_count": 1,
      "outputs": []
    },
    {
      "cell_type": "code",
      "metadata": {
        "id": "S35i915Qdy62",
        "colab_type": "code",
        "colab": {}
      },
      "source": [
        "# READING A VIDEO\n",
        "\n",
        "import cv2\n",
        "frameWidth = 640\n",
        "frameHeight = 480\n",
        "cap = cv2.VideoCapture(\"Resources/test_ video.mp4\")\n",
        "while True:\n",
        "    success, img = cap.read()\n",
        "    img = cv2.resize(img, (frameWidth, frameHeight))\n",
        "    cv2.imshow(\"Result\", img)\n",
        "    if cv2.waitKey(1) and 0xFF == ord('q'):\n",
        "         break\n"
      ],
      "execution_count": 1,
      "outputs": []
    },
    {
      "cell_type": "code",
      "metadata": {
        "id": "LYY74bPJg2Ox",
        "colab_type": "code",
        "colab": {}
      },
      "source": [
        " # READING A WEBCAM\n",
        "import cv2\n",
        "frameWidth = 640\n",
        "frameHeight = 480\n",
        "cap = cv2.VideoCapture(0)\n",
        "cap.set(3, frameWidth)\n",
        "cap.set(4, frameHeight)\n",
        "cap.set(10,150)\n",
        "while True:\n",
        "    success, img = cap.read()\n",
        "    cv2.imshow(\"Result\", img)\n",
        "    if cv2.waitKey(1) and 0xFF == ord('q'):\n",
        "        break"
      ],
      "execution_count": 1,
      "outputs": []
    },
    {
      "cell_type": "code",
      "metadata": {
        "id": "rBeh_cKqg33b",
        "colab_type": "code",
        "colab": {}
      },
      "source": [
        "#BASIC FUNCTIONS\n",
        "import cv2\n",
        "import numpy as np\n",
        " \n",
        "img = cv2.imread(\"Resources/lena.png\")\n",
        "kernel = np.ones((5,5),np.uint8)\n",
        " \n",
        "imgGray = cv2.cvtColor(img,cv2.COLOR_BGR2GRAY)\n",
        "imgBlur = cv2.GaussianBlur(imgGray,(7,7),0)\n",
        "imgCanny = cv2.Canny(img,150,200)\n",
        "imgDialation = cv2.dilate(imgCanny,kernel,iterations=1)\n",
        "imgEroded = cv2.erode(imgDialation,kernel,iterations=1)\n",
        " \n",
        "cv2.imshow(\"Gray Image\",imgGray)\n",
        "cv2.imshow(\"Blur Image\",imgBlur)\n",
        "cv2.imshow(\"Canny Image\",imgCanny)\n",
        "cv2.imshow(\"Dialation Image\",imgDialation)\n",
        "cv2.imshow(\"Eroded Image\",imgEroded)\n",
        "cv2.waitKey(0)\n",
        "Downloads\n",
        "\n"
      ],
      "execution_count": 1,
      "outputs": []
    },
    {
      "cell_type": "code",
      "metadata": {
        "id": "XnjBzF3eg58U",
        "colab_type": "code",
        "colab": {}
      },
      "source": [
        "import cv2\n",
        "import numpy as np\n",
        " \n",
        "img = cv2.imread(\"Resources/lambo.png\")\n",
        "print(img.shape)\n",
        " \n",
        "imgResize = cv2.resize(img,(1000,500))\n",
        "print(imgResize.shape)\n",
        " \n",
        "imgCropped = img[0:200,200:500]\n",
        " \n",
        "cv2.imshow(\"Image\",img)\n",
        "cv2.imshow(\"Image Resize\",imgResize)\n",
        "cv2.imshow(\"Image Cropped\",imgCropped)\n",
        " \n",
        "cv2.waitKey(0)\n"
      ],
      "execution_count": 1,
      "outputs": []
    },
    {
      "cell_type": "code",
      "metadata": {
        "id": "n-Y5bK8_ijMI",
        "colab_type": "code",
        "colab": {}
      },
      "source": [
        "import cv2\n",
        "import numpy as np\n",
        " \n",
        "img = np.zeros((512,512,3),np.uint8)\n",
        "print(img)\n",
        "img[:]= 255,0,0\n",
        " \n",
        "cv2.line(img,(0,0),(img.shape[1],img.shape[0]),(0,255,0),3)\n",
        "cv2.rectangle(img,(0,0),(250,350),(0,0,255),2)\n",
        "cv2.circle(img,(400,50),30,(255,255,0),5)\n",
        "cv2.putText(img,\" OPENCV  \",(300,200),cv2.FONT_HERSHEY_COMPLEX,1,(0,150,0),3)\n",
        " \n",
        "cv2.imshow(\"Image\",img)\n",
        "cv2.waitKey(0)\n"
      ],
      "execution_count": 1,
      "outputs": []
    },
    {
      "cell_type": "code",
      "metadata": {
        "id": "stnzW35SlZM_",
        "colab_type": "code",
        "colab": {}
      },
      "source": [
        "#WRAP PERSPECTIVE\n",
        "import cv2\n",
        "import numpy as np\n",
        " \n",
        "img = cv2.imread(\"Resources/cards.jpg\")\n",
        " \n",
        "width,height = 250,350\n",
        "pts1 = np.float32([[111,219],[287,188],[154,482],[352,440]])\n",
        "pts2 = np.float32([[0,0],[width,0],[0,height],[width,height]])\n",
        "matrix = cv2.getPerspectiveTransform(pts1,pts2)\n",
        "imgOutput = cv2.warpPerspective(img,matrix,(width,height))\n",
        " \n",
        "cv2.imshow(\"Image\",img)\n",
        "cv2.imshow(\"Output\",imgOutput)\n",
        "cv2.waitKey(0)\n"
      ],
      "execution_count": 1,
      "outputs": []
    },
    {
      "cell_type": "code",
      "metadata": {
        "id": "iKYU9QnllZn-",
        "colab_type": "code",
        "colab": {}
      },
      "source": [
        "#JOINING IMAGES\n",
        "import cv2\n",
        "import numpy as np\n",
        " \n",
        " \n",
        "def stackImages(scale,imgArray):\n",
        "    rows = len(imgArray)\n",
        "    cols = len(imgArray[0])\n",
        "    rowsAvailable = isinstance(imgArray[0], list)\n",
        "    width = imgArray[0][0].shape[1]\n",
        "    height = imgArray[0][0].shape[0]\n",
        "    if rowsAvailable:\n",
        "        for x in range ( 0, rows):\n",
        "            for y in range(0, cols):\n",
        "                if imgArray[x][y].shape[:2] == imgArray[0][0].shape [:2]:\n",
        "                    imgArray[x][y] = cv2.resize(imgArray[x][y], (0, 0), None, scale, scale)\n",
        "                else:\n",
        "                    imgArray[x][y] = cv2.resize(imgArray[x][y], (imgArray[0][0].shape[1], imgArray[0][0].shape[0]), None, scale, scale)\n",
        "                if len(imgArray[x][y].shape) == 2: imgArray[x][y]= cv2.cvtColor( imgArray[x][y], cv2.COLOR_GRAY2BGR)\n",
        "        imageBlank = np.zeros((height, width, 3), np.uint8)\n",
        "        hor = [imageBlank]*rows\n",
        "        hor_con = [imageBlank]*rows\n",
        "        for x in range(0, rows):\n",
        "            hor[x] = np.hstack(imgArray[x])\n",
        "        ver = np.vstack(hor)\n",
        "    else:\n",
        "        for x in range(0, rows):\n",
        "            if imgArray[x].shape[:2] == imgArray[0].shape[:2]:\n",
        "                imgArray[x] = cv2.resize(imgArray[x], (0, 0), None, scale, scale)\n",
        "            else:\n",
        "                imgArray[x] = cv2.resize(imgArray[x], (imgArray[0].shape[1], imgArray[0].shape[0]), None,scale, scale)\n",
        "            if len(imgArray[x].shape) == 2: imgArray[x] = cv2.cvtColor(imgArray[x], cv2.COLOR_GRAY2BGR)\n",
        "        hor= np.hstack(imgArray)\n",
        "        ver = hor\n",
        "    return ver\n",
        " \n",
        "img = cv2.imread('Resources/lena.png')\n",
        "imgGray = cv2.cvtColor(img,cv2.COLOR_BGR2GRAY)\n",
        " \n",
        "imgStack = stackImages(0.5,([img,imgGray,img],[img,img,img]))\n",
        "\n",
        "# imgHor = np.hstack((img,img))\n",
        "# imgVer = np.vstack((img,img))\n",
        "#\n",
        "# cv2.imshow(\"Horizontal\",imgHor)\n",
        "# cv2.imshow(\"Vertical\",imgVer)\n",
        "cv2.imshow(\"ImageStack\",imgStack)\n",
        " \n",
        "cv2.waitKey(0)"
      ],
      "execution_count": 1,
      "outputs": []
    },
    {
      "cell_type": "code",
      "metadata": {
        "id": "on6hFTNylZ-B",
        "colab_type": "code",
        "colab": {}
      },
      "source": [
        "\n"
      ],
      "execution_count": 1,
      "outputs": []
    },
    {
      "cell_type": "code",
      "metadata": {
        "id": "PcmSPyJRla-q",
        "colab_type": "code",
        "colab": {}
      },
      "source": [
        ""
      ],
      "execution_count": null,
      "outputs": []
    }
  ]
}